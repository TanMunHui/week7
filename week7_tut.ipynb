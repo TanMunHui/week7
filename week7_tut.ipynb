{
 "cells": [
  {
   "cell_type": "code",
   "execution_count": 1,
   "id": "6defd989",
   "metadata": {},
   "outputs": [],
   "source": [
    "import cv2 as cv\n",
    "import numpy as np\n",
    "import matplotlib.pyplot as plt"
   ]
  },
  {
   "cell_type": "code",
   "execution_count": 2,
   "id": "e62068dc",
   "metadata": {},
   "outputs": [],
   "source": [
    "img = cv.imread(\"electronic.jfif\")\n",
    "\n",
    "cv.imshow(\"img\", img)\n",
    "cv.waitKey(0)\n",
    "cv.destroyAllWindows()"
   ]
  },
  {
   "cell_type": "markdown",
   "id": "5dce82db",
   "metadata": {},
   "source": [
    "## Activity 1"
   ]
  },
  {
   "cell_type": "code",
   "execution_count": 3,
   "id": "8c0ef9d6",
   "metadata": {},
   "outputs": [],
   "source": [
    "img = cv.imread(\"electronic.jfif\", 0)\n",
    "\n",
    "eq = cv.equalizeHist(img)\n",
    "\n",
    "eq2 =  cv.equalizeHist(eq)\n",
    "\n",
    "cv.imshow(\"result\", np.hstack((img, eq, eq2)))\n",
    "cv.waitKey(0)\n",
    "cv.destroyAllWindows()"
   ]
  },
  {
   "cell_type": "markdown",
   "id": "2b07c9f4",
   "metadata": {},
   "source": [
    "## Activity 2"
   ]
  },
  {
   "cell_type": "code",
   "execution_count": 4,
   "id": "b532405a",
   "metadata": {},
   "outputs": [],
   "source": [
    "img = cv.imread(\"electronic.jfif\")\n",
    "\n",
    "blur = cv.GaussianBlur(img, (5,5), 0)\n",
    "laplacian = cv.Laplacian(blur, cv.CV_64F, ksize=1)\n",
    "laplacian2 = cv.Laplacian(blur, cv.CV_64F, ksize=3)\n",
    "laplacian3 = cv.Laplacian(blur, cv.CV_64F, ksize=5)\n",
    "\n",
    "laplacian_8u = cv.convertScaleAbs(laplacian)\n",
    "laplacian_8u2 = cv.convertScaleAbs(laplacian2)\n",
    "laplacian_8u3 = cv.convertScaleAbs(laplacian3)\n",
    "\n",
    "cv.imshow(\"result\", np.hstack((laplacian_8u, laplacian_8u2, laplacian_8u3)))\n",
    "cv.waitKey(0)\n",
    "cv.destroyAllWindows()"
   ]
  },
  {
   "cell_type": "code",
   "execution_count": 5,
   "id": "45e0c74e",
   "metadata": {},
   "outputs": [],
   "source": [
    "img = cv.imread('electronic.jfif', 0)\n",
    "\n",
    "laplacian = cv.Laplacian(img, cv.CV_64F, ksize = 3)\n",
    "laplacian_8u = np.uint8(np.absolute(laplacian))\n",
    "sobelx = cv.Sobel(img, cv.CV_64F, 1, 0, ksize = 3)\n",
    "sobelx_8u = np.uint8(np.absolute(sobelx))\n",
    "sobely = cv.Sobel(img, cv.CV_64F, 0, 1, ksize = 3)\n",
    "sobely_8u = np.uint8(np.absolute(sobely))\n",
    "img_sobel = sobelx + sobely\n",
    "\n",
    "cv.imshow('Laplacian', laplacian_8u)\n",
    "cv.imshow('Sobel', img_sobel)\n",
    "cv.imshow('Sobel x', sobelx_8u)\n",
    "cv.imshow('Sobel y', sobely_8u)\n",
    "\n",
    "cv.waitKey(0)\n",
    "cv.destroyAllWindows()"
   ]
  },
  {
   "cell_type": "code",
   "execution_count": 6,
   "id": "b87159e4",
   "metadata": {},
   "outputs": [],
   "source": [
    "img_blur = cv.GaussianBlur(img, (5, 5), 0)\n",
    "\n",
    "laplacian_blur = cv.Laplacian(img_blur, cv.CV_64F, ksize = 3)\n",
    "laplacian_blur = np.uint8(np.absolute(laplacian_blur))\n",
    "\n",
    "res = np.hstack((laplacian_8u, laplacian_blur))\n",
    "\n",
    "cv.imshow('results', res)\n",
    "cv.waitKey(0)\n",
    "cv.destroyAllWindows()"
   ]
  },
  {
   "cell_type": "markdown",
   "id": "715b998b",
   "metadata": {},
   "source": [
    "## Activity 3"
   ]
  },
  {
   "cell_type": "code",
   "execution_count": 7,
   "id": "2263f778",
   "metadata": {},
   "outputs": [],
   "source": [
    "img = cv.imread('pineapple.jfif')\n",
    "gray = cv.cvtColor(img, cv.COLOR_BGR2GRAY)\n",
    "\n",
    "laplacian = cv.Laplacian(img, cv.CV_64F, ksize = 3)\n",
    "laplacian_8u = np.uint8(np.absolute(laplacian))\n",
    "\n",
    "canny = cv.Canny(gray, 100, 300)\n",
    "\n",
    "sobelx = cv.Sobel(img, cv.CV_64F, 1, 0, ksize = 3)\n",
    "sobely = cv.Sobel(img, cv.CV_64F, 0, 1, ksize = 3)\n",
    "img_sobel = sobelx + sobely\n",
    "\n",
    "#prewitt\n",
    "kernelx = np.array([[1,1,1],[0,0,0],[-1,-1,-1]])\n",
    "kernely = np.array([[-1,0,1],[-1,0,1],[-1,0,1]])\n",
    "img_prewittx = cv.filter2D(img, -1, kernelx)\n",
    "img_prewitty = cv.filter2D(img, -1, kernely)\n",
    "img_prewitt = img_prewittx + img_prewitty\n",
    "\n",
    "# scharr\n",
    "scharr = cv.Scharr(img, cv.CV_64F, 1, 0)\n",
    "\n",
    "cv.imshow('Laplacian', laplacian_8u)\n",
    "cv.imshow('Canny', canny)\n",
    "cv.imshow('Sobel', img_sobel)\n",
    "# cv.imshow('Sobel x', sobelx)\n",
    "# cv.imshow('Sobel y', sobely)\n",
    "# cv.imshow(\"Prewitt X\", img_prewittx)\n",
    "# cv.imshow(\"Prewitt Y\", img_prewitty)\n",
    "cv.imshow(\"Prewitt\", img_prewitt)\n",
    "cv.imshow(\"Scharr\", scharr)\n",
    "\n",
    "cv.waitKey(0)\n",
    "cv.destroyAllWindows()"
   ]
  },
  {
   "cell_type": "markdown",
   "id": "240d3722",
   "metadata": {},
   "source": [
    "## Acitivity 4"
   ]
  },
  {
   "cell_type": "code",
   "execution_count": 8,
   "id": "a180d227",
   "metadata": {},
   "outputs": [],
   "source": [
    "img = cv.imread(\"electronic.jfif\")\n",
    "\n",
    "cv.imshow(\"img\", img)\n",
    "cv.waitKey(0)\n",
    "cv.destroyAllWindows()"
   ]
  },
  {
   "cell_type": "code",
   "execution_count": 20,
   "id": "4d967efc",
   "metadata": {},
   "outputs": [],
   "source": [
    "im = cv.imread(\"electronic.jfif\", 0) #grayscale\n",
    "im = cv.GaussianBlur(im, (3,3), 0)\n",
    "#Thresholding\n",
    "# _, th = cv.threshold(im, 0, 255, cv.THRESH_BINARY_INV+cv.THRESH_OTSU)\n",
    "\n",
    "canny_output = cv.Canny(im, 100, int(2.5*100), 3)\n",
    "\n",
    "# find contour\n",
    "contour, hierarchy = cv.findContours(canny_output, cv.RETR_TREE, cv.CHAIN_APPROX_SIMPLE)\n",
    "\n",
    "\n",
    "# draw contour\n",
    "im_bgr = cv.cvtColor(im, cv.COLOR_GRAY2BGR)\n",
    "cv.drawContours(im_bgr, contour, -1, (0,255,0), 2)\n",
    "\n",
    "cv.imshow(\"contour\", im_bgr)\n",
    "cv.waitKey(0)\n",
    "cv.destroyAllWindows()"
   ]
  },
  {
   "cell_type": "code",
   "execution_count": null,
   "id": "dd75aa08",
   "metadata": {},
   "outputs": [],
   "source": []
  }
 ],
 "metadata": {
  "kernelspec": {
   "display_name": "Python 3",
   "language": "python",
   "name": "python3"
  },
  "language_info": {
   "codemirror_mode": {
    "name": "ipython",
    "version": 3
   },
   "file_extension": ".py",
   "mimetype": "text/x-python",
   "name": "python",
   "nbconvert_exporter": "python",
   "pygments_lexer": "ipython3",
   "version": "3.8.8"
  }
 },
 "nbformat": 4,
 "nbformat_minor": 5
}
